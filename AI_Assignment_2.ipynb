{
 "cells": [
  {
   "cell_type": "code",
   "execution_count": 1,
   "metadata": {},
   "outputs": [],
   "source": [
    "graph = { \"51\" : [\"3\", \"6\"],\n",
    "          \"3\" : [\"51\",\"6\", \"9\"],\n",
    "          \"6\" : [\"51\", \"3\", \"57\", \"8\"],\n",
    "          \"57\" : [\"6\"],\n",
    "          \"9\" : [\"3\", \"8\"],\n",
    "          \"8\" : [\"6\", \"9\", \"1\", \"42\"],\n",
    "         \"42\" : [\"8\"],\n",
    "         \"1\" : [\"8\", \"14\"],\n",
    "         \"14\" : [\"1\", \"97\"],\n",
    "         \"97\" : [\"14\"],\n",
    "        }"
   ]
  },
  {
   "cell_type": "code",
   "execution_count": 2,
   "metadata": {},
   "outputs": [
    {
     "data": {
      "text/plain": [
       "['51', '3', '6', '9', '57', '8', '1', '42', '14', '97']"
      ]
     },
     "execution_count": 2,
     "metadata": {},
     "output_type": "execute_result"
    }
   ],
   "source": [
    "#BFS\n",
    "\n",
    "# visits all the nodes of a graph\n",
    "def bfs(graph, start):\n",
    "    #track of all visited nodes\n",
    "    visited = []\n",
    "    #track of nodes to be checked\n",
    "    queue = [start]\n",
    " \n",
    "    while queue:\n",
    "        #pop first node from queue\n",
    "        node = queue.pop(0)\n",
    "        if node not in visited:\n",
    "            visited.append(node)\n",
    "            neighbours = graph[node]\n",
    " \n",
    "            for neighbour in neighbours:\n",
    "                queue.append(neighbour)\n",
    "    return visited\n",
    " \n",
    "bfs(graph,'51')"
   ]
  },
  {
   "cell_type": "code",
   "execution_count": 3,
   "metadata": {},
   "outputs": [
    {
     "data": {
      "text/plain": [
       "['51', '3', '6', '57', '8', '9', '1', '14', '97', '42']"
      ]
     },
     "execution_count": 3,
     "metadata": {},
     "output_type": "execute_result"
    }
   ],
   "source": [
    "#DFS\n",
    "\n",
    "def dfs(graph, node, visited):\n",
    "    if node not in visited:\n",
    "        visited.append(node)\n",
    "        for n in graph[node]:\n",
    "            dfs(graph,n, visited)\n",
    "    return visited\n",
    "\n",
    "dfs(graph,'51', [])"
   ]
  }
 ],
 "metadata": {
  "kernelspec": {
   "display_name": "Python 3",
   "language": "python",
   "name": "python3"
  },
  "language_info": {
   "codemirror_mode": {
    "name": "ipython",
    "version": 3
   },
   "file_extension": ".py",
   "mimetype": "text/x-python",
   "name": "python",
   "nbconvert_exporter": "python",
   "pygments_lexer": "ipython3",
   "version": "3.7.1"
  }
 },
 "nbformat": 4,
 "nbformat_minor": 2
}

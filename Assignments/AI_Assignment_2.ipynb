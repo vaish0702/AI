{
 "cells": [
  {
   "cell_type": "code",
   "execution_count": 1,
   "metadata": {},
   "outputs": [],
   "source": [
    "g = { \"51\" : [\"3\", \"6\"],\n",
    "          \"3\" : [\"51\",\"6\", \"9\"],\n",
    "          \"6\" : [\"51\", \"3\", \"57\", \"8\"],\n",
    "          \"57\" : [\"6\"],\n",
    "          \"9\" : [\"3\", \"8\"],\n",
    "          \"8\" : [\"6\", \"9\", \"1\", \"42\"],\n",
    "         \"42\" : [\"8\"],\n",
    "         \"1\" : [\"8\", \"14\"],\n",
    "         \"14\" : [\"1\", \"97\"],\n",
    "         \"97\" : [\"14\"],\n",
    "        }"
   ]
  },
  {
   "cell_type": "code",
   "execution_count": 2,
   "metadata": {},
   "outputs": [
    {
     "name": "stdout",
     "output_type": "stream",
     "text": [
      "Number of vertices :  10\n"
     ]
    }
   ],
   "source": [
    "print(\"Number of vertices : \", len(g))"
   ]
  },
  {
   "cell_type": "code",
   "execution_count": 4,
   "metadata": {},
   "outputs": [
    {
     "name": "stdout",
     "output_type": "stream",
     "text": [
      "BFS =  ['51', '3', '6', '9', '57', '8', '1', '42', '14', '97']\n"
     ]
    }
   ],
   "source": [
    "#BFS\n",
    "\n",
    "# visits all the nodes of a graph\n",
    "def bfs(graph, start):\n",
    "    #track of all visited nodes\n",
    "    visited = []\n",
    "    #track of nodes to be checked\n",
    "    queue = [start]\n",
    " \n",
    "    while queue:\n",
    "        #pop first node from queue\n",
    "        node = queue.pop(0)\n",
    "        if node not in visited:\n",
    "            visited.append(node)\n",
    "            neighbours = graph[node]\n",
    " \n",
    "            for neighbour in neighbours:\n",
    "                queue.append(neighbour)\n",
    "    return visited\n",
    " \n",
    "print(\"BFS = \",bfs(g,'51'))"
   ]
  },
  {
   "cell_type": "code",
   "execution_count": 6,
   "metadata": {},
   "outputs": [
    {
     "name": "stdout",
     "output_type": "stream",
     "text": [
      "DFS =  ['51', '3', '6', '57', '8', '9', '1', '14', '97', '42']\n"
     ]
    }
   ],
   "source": [
    "#DFS\n",
    "\n",
    "def dfs(g, node, visited):\n",
    "    if node not in visited:\n",
    "        visited.append(node)\n",
    "        for n in g[node]:\n",
    "            dfs(g,n, visited)\n",
    "    return visited\n",
    "\n",
    "print(\"DFS = \",dfs(g,'51', []))"
   ]
  }
 ],
 "metadata": {
  "kernelspec": {
   "display_name": "Python 3",
   "language": "python",
   "name": "python3"
  },
  "language_info": {
   "codemirror_mode": {
    "name": "ipython",
    "version": 3
   },
   "file_extension": ".py",
   "mimetype": "text/x-python",
   "name": "python",
   "nbconvert_exporter": "python",
   "pygments_lexer": "ipython3",
   "version": "3.7.1"
  }
 },
 "nbformat": 4,
 "nbformat_minor": 2
}
